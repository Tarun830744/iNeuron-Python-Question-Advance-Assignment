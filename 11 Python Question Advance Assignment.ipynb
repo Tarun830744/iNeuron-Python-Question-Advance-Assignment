{
 "cells": [
  {
   "cell_type": "markdown",
   "metadata": {},
   "source": [
    "Q1 = What is the concept of a metaclass?\n",
    "\n",
    "Ans = Metaclass in Python is a class of a class that defines how a class behaves. A class is itself a instance of Metaclass, and any Instance of Class in Python is an Instance of type metaclass. E.g. Type of of **int**, **str**, **float**, **list**, **tuple** and many more is of metaclass type."
   ]
  },
  {
   "cell_type": "markdown",
   "metadata": {},
   "source": [
    "Q2 = What is the best way to declare a class's metaclass?\n",
    "\n",
    "Ans = A way to declare a class’ metaclass is by using **metaclass** keyword in class definition."
   ]
  },
  {
   "cell_type": "code",
   "execution_count": null,
   "metadata": {},
   "outputs": [],
   "source": [
    "class meta(type):\n",
    "    pass\n",
    "class class_meta(metaclass=meta):\n",
    "    pass\n",
    "print(type(meta))\n",
    "print(type(class_meta))"
   ]
  },
  {
   "cell_type": "markdown",
   "metadata": {},
   "source": [
    "Q3 = How do class decorators overlap with metaclasses for handling classes ?\n",
    "\n",
    "Ans = Anything you can do with a class decorator, you can of course do with a custom metaclasses (just apply the functionality of the \"decorator function\", i.e., the one that takes a class object and modifies it, in the course of the metaclass's **\\_\\_new\\_\\_** or **\\_\\_init\\_\\_** that make the class object!)."
   ]
  },
  {
   "cell_type": "markdown",
   "metadata": {},
   "source": [
    "Q4 = How do class decorators overlap with metaclasses for handling instances?\n",
    "\n",
    "Ans = Anything you can do with a class decorator, you can of course do with a custom metaclass (just apply the functionality of the \"decorator function\", i.e., the one that takes a class object and modifies it, in the course of the metaclass's **\\_\\_new\\_\\_** or **\\_\\_init\\_\\_** that make the class object!)."
   ]
  }
 ],
 "metadata": {
  "language_info": {
   "name": "python"
  },
  "orig_nbformat": 4
 },
 "nbformat": 4,
 "nbformat_minor": 2
}
